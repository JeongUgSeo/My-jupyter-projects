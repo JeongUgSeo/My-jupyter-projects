{
 "cells": [
  {
   "cell_type": "code",
   "execution_count": 1,
   "metadata": {},
   "outputs": [],
   "source": [
    "import numpy as np\n",
    "from braindecode.datasets.moabb import MOABBDataset\n",
    "from braindecode.datautil.preprocess import exponential_moving_standardize\n",
    "from braindecode.datautil.preprocess import MNEPreproc\n",
    "from braindecode.datautil.preprocess import NumpyPreproc\n",
    "from braindecode.datautil.preprocess import preprocess\n",
    "from braindecode.datautil.windowers import create_windows_from_events\n",
    "\n",
    "import os\n",
    "from glob import glob\n",
    "\n",
    "import sys"
   ]
  },
  {
   "cell_type": "code",
   "execution_count": 2,
   "metadata": {},
   "outputs": [],
   "source": [
    "def print_off():\n",
    "    sys.stdout = open(os.devnull, 'w')\n",
    "def print_on():\n",
    "    sys.stdout = sys.__stdout__"
   ]
  },
  {
   "cell_type": "code",
   "execution_count": 3,
   "metadata": {},
   "outputs": [],
   "source": [
    "def bcic4_2a(subject, low_hz=None, high_hz=None):\n",
    "    X = []\n",
    "    y = []\n",
    "    if isinstance(subject, int):\n",
    "        subject = [subject]\n",
    "    for subject_id in subject:\n",
    "        # Load data\n",
    "        print_off()\n",
    "        dataset = MOABBDataset(dataset_name=\"BNCI2014001\", subject_ids=[subject_id])\n",
    "        # Preprocess\n",
    "        factor_new = 1e-3\n",
    "        init_block_size = 1000\n",
    "        preprocessors = [\n",
    "            # keep only EEG sensors\n",
    "            MNEPreproc(fn='pick_types', eeg=True, meg=True, stim=False),\n",
    "            # convert from volt to microvolt\n",
    "            NumpyPreproc(fn=lambda x: x * 1e+06),\n",
    "            # bandpass filter\n",
    "            MNEPreproc(fn='filter', l_freq=low_hz, h_freq=high_hz),\n",
    "            # exponential moving standardization\n",
    "            NumpyPreproc(fn=exponential_moving_standardize, factor_new=factor_new,\n",
    "                         init_block_size=init_block_size)\n",
    "        ]\n",
    "        preprocess(dataset, preprocessors)\n",
    "        # Divide data by trial\n",
    "        # - Check sampling frequency\n",
    "        sfreq = dataset.datasets[0].raw.info['sfreq']\n",
    "        assert all([ds.raw.info['sfreq'] == sfreq for ds in dataset.datasets])\n",
    "        trial_start_offset_seconds = -0.5\n",
    "        trial_start_offset_samples = int(trial_start_offset_seconds * sfreq)\n",
    "        windows_dataset = create_windows_from_events(\n",
    "            dataset,\n",
    "            trial_start_offset_samples=trial_start_offset_samples,\n",
    "            trial_stop_offset_samples=0,\n",
    "            preload=True\n",
    "            # verbose=True\n",
    "        )\n",
    "        # If you need split data, try this.\n",
    "        splitted = windows_dataset.split('session')\n",
    "        train_set = splitted['session_T']\n",
    "        valid_set = splitted['session_E']\n",
    "        If you need concat data, try this.\n",
    "        dataset = BaseConcatDataset([train_set, valid_set])\n",
    "        # merge subject\n",
    "        # data_bundle.append(windows_dataset)\n",
    "        \n",
    "        # Merge subject\n",
    "        \n",
    "        #for trial in windows_dataset:\n",
    "            X.append(trial[0])\n",
    "            y.append(trial[1])\n",
    "    print_on()\n",
    "    return np.array(X), np.array(y)"
   ]
  },
  {
   "cell_type": "code",
   "execution_count": 4,
   "metadata": {},
   "outputs": [],
   "source": [
    "x, y = bcic4_2a([1,2,3], 1, 38)"
   ]
  },
  {
   "cell_type": "code",
   "execution_count": 5,
   "metadata": {},
   "outputs": [
    {
     "data": {
      "text/plain": [
       "(1728, 22, 1125)"
      ]
     },
     "execution_count": 5,
     "metadata": {},
     "output_type": "execute_result"
    }
   ],
   "source": [
    "x.shape"
   ]
  },
  {
   "cell_type": "code",
   "execution_count": 22,
   "metadata": {},
   "outputs": [
    {
     "data": {
      "text/plain": [
       "(576,)"
      ]
     },
     "execution_count": 22,
     "metadata": {},
     "output_type": "execute_result"
    }
   ],
   "source": [
    "y.shape"
   ]
  },
  {
   "cell_type": "code",
   "execution_count": 24,
   "metadata": {},
   "outputs": [
    {
     "data": {
      "text/plain": [
       "(array([0, 1, 2, 3]), array([144, 144, 144, 144], dtype=int64))"
      ]
     },
     "execution_count": 24,
     "metadata": {},
     "output_type": "execute_result"
    }
   ],
   "source": [
    "np.unique(y, return_counts=True)"
   ]
  },
  {
   "cell_type": "code",
   "execution_count": 9,
   "metadata": {},
   "outputs": [],
   "source": [
    "val_subject = [1]\n",
    "train_subject = list(set(range(1, 10)) - set(val_subject))"
   ]
  },
  {
   "cell_type": "code",
   "execution_count": 10,
   "metadata": {},
   "outputs": [
    {
     "data": {
      "text/plain": [
       "[2, 3, 4, 5, 6, 7, 8, 9]"
      ]
     },
     "execution_count": 10,
     "metadata": {},
     "output_type": "execute_result"
    }
   ],
   "source": [
    "train_subject"
   ]
  },
  {
   "cell_type": "code",
   "execution_count": 11,
   "metadata": {},
   "outputs": [],
   "source": [
    "x, y = bcic4_2a(train_subject)"
   ]
  },
  {
   "cell_type": "code",
   "execution_count": 2,
   "metadata": {},
   "outputs": [
    {
     "ename": "NameError",
     "evalue": "name 'x' is not defined",
     "output_type": "error",
     "traceback": [
      "\u001b[1;31m---------------------------------------------------------------------------\u001b[0m",
      "\u001b[1;31mNameError\u001b[0m                                 Traceback (most recent call last)",
      "\u001b[1;32m<ipython-input-2-4b86d788962b>\u001b[0m in \u001b[0;36m<module>\u001b[1;34m\u001b[0m\n\u001b[1;32m----> 1\u001b[1;33m \u001b[0mprint\u001b[0m\u001b[1;33m(\u001b[0m\u001b[1;34m\"데이터 확인용입니다\"\u001b[0m\u001b[1;33m,\u001b[0m \u001b[0mx\u001b[0m\u001b[1;33m.\u001b[0m\u001b[0mshape\u001b[0m\u001b[1;33m)\u001b[0m\u001b[1;33m\u001b[0m\u001b[1;33m\u001b[0m\u001b[0m\n\u001b[0m",
      "\u001b[1;31mNameError\u001b[0m: name 'x' is not defined"
     ]
    }
   ],
   "source": [
    "print(\"데이터 확인용입니다\", x.shape)"
   ]
  },
  {
   "cell_type": "code",
   "execution_count": 13,
   "metadata": {},
   "outputs": [
    {
     "data": {
      "text/plain": [
       "(4608,)"
      ]
     },
     "execution_count": 13,
     "metadata": {},
     "output_type": "execute_result"
    }
   ],
   "source": [
    "y.shape"
   ]
  },
  {
   "cell_type": "code",
   "execution_count": 18,
   "metadata": {},
   "outputs": [
    {
     "data": {
      "text/plain": [
       "'Hello'"
      ]
     },
     "execution_count": 18,
     "metadata": {},
     "output_type": "execute_result"
    }
   ],
   "source": [
    "\"Hello\""
   ]
  },
  {
   "cell_type": "code",
   "execution_count": 3,
   "metadata": {},
   "outputs": [
    {
     "name": "stdout",
     "output_type": "stream",
     "text": [
      "Hello 3\n"
     ]
    }
   ],
   "source": [
    "print(\"Hello\", 3)"
   ]
  },
  {
   "cell_type": "code",
   "execution_count": 9,
   "metadata": {},
   "outputs": [],
   "source": [
    "import numpy as np\n",
    "\n",
    "X = np.random.rand(576, 25, 1125)"
   ]
  },
  {
   "cell_type": "code",
   "execution_count": 7,
   "metadata": {},
   "outputs": [],
   "source": [
    "X = np.reshape(X, [576,25,1125,1])"
   ]
  },
  {
   "cell_type": "code",
   "execution_count": 8,
   "metadata": {},
   "outputs": [
    {
     "data": {
      "text/plain": [
       "(576, 25, 1125, 1)"
      ]
     },
     "execution_count": 8,
     "metadata": {},
     "output_type": "execute_result"
    }
   ],
   "source": [
    "X.shape"
   ]
  },
  {
   "cell_type": "code",
   "execution_count": 10,
   "metadata": {},
   "outputs": [],
   "source": [
    "X = np.expand_dims(X, -1)"
   ]
  },
  {
   "cell_type": "code",
   "execution_count": 11,
   "metadata": {},
   "outputs": [
    {
     "data": {
      "text/plain": [
       "(576, 25, 1125, 1)"
      ]
     },
     "execution_count": 11,
     "metadata": {},
     "output_type": "execute_result"
    }
   ],
   "source": [
    "X.shape"
   ]
  },
  {
   "cell_type": "code",
   "execution_count": null,
   "metadata": {},
   "outputs": [],
   "source": []
  }
 ],
 "metadata": {
  "kernelspec": {
   "display_name": "torch",
   "language": "python",
   "name": "torch"
  },
  "language_info": {
   "codemirror_mode": {
    "name": "ipython",
    "version": 3
   },
   "file_extension": ".py",
   "mimetype": "text/x-python",
   "name": "python",
   "nbconvert_exporter": "python",
   "pygments_lexer": "ipython3",
   "version": "3.7.9"
  }
 },
 "nbformat": 4,
 "nbformat_minor": 4
}
